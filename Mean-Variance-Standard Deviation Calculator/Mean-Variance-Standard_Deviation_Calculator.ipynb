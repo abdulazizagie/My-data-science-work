{
 "cells": [
  {
   "cell_type": "code",
   "execution_count": 33,
   "metadata": {},
   "outputs": [],
   "source": [
    "import numpy as np"
   ]
  },
  {
   "cell_type": "code",
   "execution_count": 41,
   "metadata": {},
   "outputs": [
    {
     "name": "stdout",
     "output_type": "stream",
     "text": [
      "[[1 2 3]\n",
      " [4 5 6]\n",
      " [7 8 9]]\n",
      "[array([2., 5., 8.]), array([4., 5., 6.]), 5.0]\n",
      "[array([0.66666667, 0.66666667, 0.66666667]), array([6., 6., 6.]), 6.666666666666667]\n",
      "[array([0.81649658, 0.81649658, 0.81649658]), array([2.44948974, 2.44948974, 2.44948974]), 2.581988897471611]\n",
      "[array([3, 6, 9]), array([7, 8, 9]), 9]\n",
      "[array([1, 4, 7]), array([1, 2, 3]), 1]\n",
      "[array([ 6, 15, 24]), array([12, 15, 18]), 45]\n"
     ]
    }
   ],
   "source": [
    "def calculate(list):\n",
    "\n",
    "    if len(list) != 9:\n",
    "        raise ValueError(\"input  list must the 9 value\")\n",
    "    \n",
    "    matrix = np.array(list).reshape((3,3))\n",
    "    print(matrix)\n",
    "    # matrix = [\n",
    "        # [1,4,7],\n",
    "        # [2,5,8],\n",
    "        # [3,6,9],\n",
    "    # ]\n",
    "    \n",
    "    mean_row = np.mean(matrix,axis=1)\n",
    "    mean_column = np.mean(matrix,axis=0)\n",
    "    mean = np.mean(matrix)\n",
    "    \n",
    "    variance_row = np.var(matrix,axis=1)\n",
    "    variance_columns = np.var(matrix , axis=0)\n",
    "    variance = np.var(matrix)\n",
    "    \n",
    "    standard_deviation_row = np.std(matrix,axis=1)\n",
    "    standard_deviation_columns = np.std(matrix,axis=0)\n",
    "    standard_deviation = np.std(matrix)\n",
    "    \n",
    "    max_row = np.max(matrix,axis=1)\n",
    "    max_column = np.max(matrix,axis=0)\n",
    "    max = np.max(matrix)\n",
    "    \n",
    "    min_row = np.min(matrix,axis=1)\n",
    "    min_columns = np.min(matrix,axis=0)\n",
    "    main = np.min(matrix)\n",
    "    \n",
    "    sum_row = np.sum(matrix,axis=1)\n",
    "    sum_columns = np.sum(matrix,axis=0)\n",
    "    sum = np.sum(matrix)\n",
    "    \n",
    "    dic_info = {\n",
    "        'mean_' :[mean_row,mean_column,mean],\n",
    "        'variance_' : [variance_row,variance_columns,variance], \n",
    "        'standard_deviation_': [standard_deviation_row,standard_deviation_columns,standard_deviation],\n",
    "        'max_':[max_row,max_column,max],\n",
    "        'min_':[min_row,min_columns,main],\n",
    "        'sum_':[sum_row,sum_columns,sum]\n",
    "    }\n",
    "    for i in dic_info:\n",
    "        print(dic_info[i])\n",
    "    \n",
    "list = [1,2,3,4,5,6,7,8,9]\n",
    "calculate(list)"
   ]
  },
  {
   "cell_type": "code",
   "execution_count": null,
   "metadata": {},
   "outputs": [],
   "source": []
  }
 ],
 "metadata": {
  "kernelspec": {
   "display_name": "Python 3",
   "language": "python",
   "name": "python3"
  },
  "language_info": {
   "codemirror_mode": {
    "name": "ipython",
    "version": 3
   },
   "file_extension": ".py",
   "mimetype": "text/x-python",
   "name": "python",
   "nbconvert_exporter": "python",
   "pygments_lexer": "ipython3",
   "version": "3.11.4"
  }
 },
 "nbformat": 4,
 "nbformat_minor": 2
}
