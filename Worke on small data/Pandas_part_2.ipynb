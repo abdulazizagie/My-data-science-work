{
 "cells": [
  {
   "cell_type": "markdown",
   "metadata": {},
   "source": [
    "## import libraryies"
   ]
  },
  {
   "cell_type": "code",
   "execution_count": 19,
   "metadata": {},
   "outputs": [],
   "source": [
    "import pandas as pd "
   ]
  },
  {
   "cell_type": "markdown",
   "metadata": {},
   "source": [
    "#### reade the data from csv file fire deparment of new York City(FDNY)"
   ]
  },
  {
   "cell_type": "code",
   "execution_count": 20,
   "metadata": {},
   "outputs": [],
   "source": [
    "df_fdny_csv_data_raw = pd.read_csv('FDNY_Firehouse_listing.csv')"
   ]
  },
  {
   "cell_type": "markdown",
   "metadata": {},
   "source": [
    "#### view content of the data"
   ]
  },
  {
   "cell_type": "code",
   "execution_count": 21,
   "metadata": {},
   "outputs": [
    {
     "data": {
      "text/plain": [
       "<bound method NDFrame.describe of                                           FacilityName  \\\n",
       "0                                   Engine 4/Ladder 15   \n",
       "1                                             Engine 6   \n",
       "2    Manhattan Borough Command/Battalion 1/Engine 7...   \n",
       "3                                             Ladder 8   \n",
       "4                                    Engine 9/Ladder 6   \n",
       "..                                                 ...   \n",
       "214                               Engine 167/Ladder 87   \n",
       "215                               Engine 164/Ladder 84   \n",
       "216                               Engine 151/Ladder 76   \n",
       "217                                         Engine 168   \n",
       "218                                           Marine 9   \n",
       "\n",
       "              FacilityAddress        Borough  \n",
       "0             42 South Street      Manhattan  \n",
       "1           49 Beekman Street      Manhattan  \n",
       "2            100 Duane Street      Manhattan  \n",
       "3          14 N. Moore Street      Manhattan  \n",
       "4             75 Canal Street      Manhattan  \n",
       "..                        ...            ...  \n",
       "214         345 Annadale Road  Staten Island  \n",
       "215  1560 Drumgoole Road West  Staten Island  \n",
       "216           7219 Amboy Road  Staten Island  \n",
       "217        1100 Rossville Ave  Staten Island  \n",
       "218          305 Front Street  Staten Island  \n",
       "\n",
       "[219 rows x 3 columns]>"
      ]
     },
     "execution_count": 21,
     "metadata": {},
     "output_type": "execute_result"
    }
   ],
   "source": [
    "df_fdny_csv_data_raw.describe"
   ]
  },
  {
   "cell_type": "markdown",
   "metadata": {},
   "source": [
    "#### view first five records"
   ]
  },
  {
   "cell_type": "code",
   "execution_count": 22,
   "metadata": {},
   "outputs": [
    {
     "data": {
      "text/html": [
       "<div>\n",
       "<style scoped>\n",
       "    .dataframe tbody tr th:only-of-type {\n",
       "        vertical-align: middle;\n",
       "    }\n",
       "\n",
       "    .dataframe tbody tr th {\n",
       "        vertical-align: top;\n",
       "    }\n",
       "\n",
       "    .dataframe thead th {\n",
       "        text-align: right;\n",
       "    }\n",
       "</style>\n",
       "<table border=\"1\" class=\"dataframe\">\n",
       "  <thead>\n",
       "    <tr style=\"text-align: right;\">\n",
       "      <th></th>\n",
       "      <th>FacilityName</th>\n",
       "      <th>FacilityAddress</th>\n",
       "      <th>Borough</th>\n",
       "    </tr>\n",
       "  </thead>\n",
       "  <tbody>\n",
       "    <tr>\n",
       "      <th>0</th>\n",
       "      <td>Engine 4/Ladder 15</td>\n",
       "      <td>42 South Street</td>\n",
       "      <td>Manhattan</td>\n",
       "    </tr>\n",
       "    <tr>\n",
       "      <th>1</th>\n",
       "      <td>Engine 6</td>\n",
       "      <td>49 Beekman Street</td>\n",
       "      <td>Manhattan</td>\n",
       "    </tr>\n",
       "    <tr>\n",
       "      <th>2</th>\n",
       "      <td>Manhattan Borough Command/Battalion 1/Engine 7...</td>\n",
       "      <td>100 Duane Street</td>\n",
       "      <td>Manhattan</td>\n",
       "    </tr>\n",
       "    <tr>\n",
       "      <th>3</th>\n",
       "      <td>Ladder 8</td>\n",
       "      <td>14 N. Moore Street</td>\n",
       "      <td>Manhattan</td>\n",
       "    </tr>\n",
       "    <tr>\n",
       "      <th>4</th>\n",
       "      <td>Engine 9/Ladder 6</td>\n",
       "      <td>75 Canal Street</td>\n",
       "      <td>Manhattan</td>\n",
       "    </tr>\n",
       "  </tbody>\n",
       "</table>\n",
       "</div>"
      ],
      "text/plain": [
       "                                        FacilityName     FacilityAddress  \\\n",
       "0                                 Engine 4/Ladder 15     42 South Street   \n",
       "1                                           Engine 6   49 Beekman Street   \n",
       "2  Manhattan Borough Command/Battalion 1/Engine 7...    100 Duane Street   \n",
       "3                                           Ladder 8  14 N. Moore Street   \n",
       "4                                  Engine 9/Ladder 6     75 Canal Street   \n",
       "\n",
       "     Borough  \n",
       "0  Manhattan  \n",
       "1  Manhattan  \n",
       "2  Manhattan  \n",
       "3  Manhattan  \n",
       "4  Manhattan  "
      ]
     },
     "execution_count": 22,
     "metadata": {},
     "output_type": "execute_result"
    }
   ],
   "source": [
    "df_fdny_csv_data_raw.head()"
   ]
  },
  {
   "cell_type": "markdown",
   "metadata": {},
   "source": [
    "#### skip the first row from dataset"
   ]
  },
  {
   "cell_type": "code",
   "execution_count": 27,
   "metadata": {},
   "outputs": [],
   "source": [
    "df_fdny_csv_data = pd.read_csv('FDNY_Firehouse_Listing.csv')"
   ]
  },
  {
   "cell_type": "markdown",
   "metadata": {},
   "source": [
    "#### view the first five records from fixed dataset"
   ]
  },
  {
   "cell_type": "code",
   "execution_count": 28,
   "metadata": {},
   "outputs": [
    {
     "data": {
      "text/html": [
       "<div>\n",
       "<style scoped>\n",
       "    .dataframe tbody tr th:only-of-type {\n",
       "        vertical-align: middle;\n",
       "    }\n",
       "\n",
       "    .dataframe tbody tr th {\n",
       "        vertical-align: top;\n",
       "    }\n",
       "\n",
       "    .dataframe thead th {\n",
       "        text-align: right;\n",
       "    }\n",
       "</style>\n",
       "<table border=\"1\" class=\"dataframe\">\n",
       "  <thead>\n",
       "    <tr style=\"text-align: right;\">\n",
       "      <th></th>\n",
       "      <th>FacilityName</th>\n",
       "      <th>FacilityAddress</th>\n",
       "      <th>Borough</th>\n",
       "    </tr>\n",
       "  </thead>\n",
       "  <tbody>\n",
       "    <tr>\n",
       "      <th>0</th>\n",
       "      <td>Engine 4/Ladder 15</td>\n",
       "      <td>42 South Street</td>\n",
       "      <td>Manhattan</td>\n",
       "    </tr>\n",
       "    <tr>\n",
       "      <th>1</th>\n",
       "      <td>Engine 6</td>\n",
       "      <td>49 Beekman Street</td>\n",
       "      <td>Manhattan</td>\n",
       "    </tr>\n",
       "    <tr>\n",
       "      <th>2</th>\n",
       "      <td>Manhattan Borough Command/Battalion 1/Engine 7...</td>\n",
       "      <td>100 Duane Street</td>\n",
       "      <td>Manhattan</td>\n",
       "    </tr>\n",
       "    <tr>\n",
       "      <th>3</th>\n",
       "      <td>Ladder 8</td>\n",
       "      <td>14 N. Moore Street</td>\n",
       "      <td>Manhattan</td>\n",
       "    </tr>\n",
       "    <tr>\n",
       "      <th>4</th>\n",
       "      <td>Engine 9/Ladder 6</td>\n",
       "      <td>75 Canal Street</td>\n",
       "      <td>Manhattan</td>\n",
       "    </tr>\n",
       "  </tbody>\n",
       "</table>\n",
       "</div>"
      ],
      "text/plain": [
       "                                        FacilityName     FacilityAddress  \\\n",
       "0                                 Engine 4/Ladder 15     42 South Street   \n",
       "1                                           Engine 6   49 Beekman Street   \n",
       "2  Manhattan Borough Command/Battalion 1/Engine 7...    100 Duane Street   \n",
       "3                                           Ladder 8  14 N. Moore Street   \n",
       "4                                  Engine 9/Ladder 6     75 Canal Street   \n",
       "\n",
       "     Borough  \n",
       "0  Manhattan  \n",
       "1  Manhattan  \n",
       "2  Manhattan  \n",
       "3  Manhattan  \n",
       "4  Manhattan  "
      ]
     },
     "execution_count": 28,
     "metadata": {},
     "output_type": "execute_result"
    }
   ],
   "source": [
    "df_fdny_csv_data.head(5)"
   ]
  },
  {
   "cell_type": "markdown",
   "metadata": {},
   "source": [
    "#### view data statistics using describe()"
   ]
  },
  {
   "cell_type": "code",
   "execution_count": 29,
   "metadata": {},
   "outputs": [
    {
     "data": {
      "text/html": [
       "<div>\n",
       "<style scoped>\n",
       "    .dataframe tbody tr th:only-of-type {\n",
       "        vertical-align: middle;\n",
       "    }\n",
       "\n",
       "    .dataframe tbody tr th {\n",
       "        vertical-align: top;\n",
       "    }\n",
       "\n",
       "    .dataframe thead th {\n",
       "        text-align: right;\n",
       "    }\n",
       "</style>\n",
       "<table border=\"1\" class=\"dataframe\">\n",
       "  <thead>\n",
       "    <tr style=\"text-align: right;\">\n",
       "      <th></th>\n",
       "      <th>FacilityName</th>\n",
       "      <th>FacilityAddress</th>\n",
       "      <th>Borough</th>\n",
       "    </tr>\n",
       "  </thead>\n",
       "  <tbody>\n",
       "    <tr>\n",
       "      <th>count</th>\n",
       "      <td>219</td>\n",
       "      <td>219</td>\n",
       "      <td>219</td>\n",
       "    </tr>\n",
       "    <tr>\n",
       "      <th>unique</th>\n",
       "      <td>219</td>\n",
       "      <td>219</td>\n",
       "      <td>5</td>\n",
       "    </tr>\n",
       "    <tr>\n",
       "      <th>top</th>\n",
       "      <td>Engine 4/Ladder 15</td>\n",
       "      <td>42 South Street</td>\n",
       "      <td>Brooklyn</td>\n",
       "    </tr>\n",
       "    <tr>\n",
       "      <th>freq</th>\n",
       "      <td>1</td>\n",
       "      <td>1</td>\n",
       "      <td>66</td>\n",
       "    </tr>\n",
       "  </tbody>\n",
       "</table>\n",
       "</div>"
      ],
      "text/plain": [
       "              FacilityName  FacilityAddress   Borough\n",
       "count                  219              219       219\n",
       "unique                 219              219         5\n",
       "top     Engine 4/Ladder 15  42 South Street  Brooklyn\n",
       "freq                     1                1        66"
      ]
     },
     "execution_count": 29,
     "metadata": {},
     "output_type": "execute_result"
    }
   ],
   "source": [
    "df_fdny_csv_data.describe()"
   ]
  },
  {
   "cell_type": "markdown",
   "metadata": {},
   "source": [
    "#### view column from the data set"
   ]
  },
  {
   "cell_type": "code",
   "execution_count": 30,
   "metadata": {},
   "outputs": [
    {
     "data": {
      "text/plain": [
       "Index(['FacilityName', 'FacilityAddress', 'Borough'], dtype='object')"
      ]
     },
     "execution_count": 30,
     "metadata": {},
     "output_type": "execute_result"
    }
   ],
   "source": [
    "df_fdny_csv_data.columns"
   ]
  },
  {
   "cell_type": "markdown",
   "metadata": {},
   "source": [
    "#### view index of data set"
   ]
  },
  {
   "cell_type": "code",
   "execution_count": 31,
   "metadata": {},
   "outputs": [
    {
     "data": {
      "text/plain": [
       "RangeIndex(start=0, stop=219, step=1)"
      ]
     },
     "execution_count": 31,
     "metadata": {},
     "output_type": "execute_result"
    }
   ],
   "source": [
    "df_fdny_csv_data.index"
   ]
  },
  {
   "cell_type": "markdown",
   "metadata": {},
   "source": [
    "#### count number of recoreds"
   ]
  },
  {
   "cell_type": "code",
   "execution_count": 32,
   "metadata": {},
   "outputs": [
    {
     "data": {
      "text/plain": [
       "FacilityName       219\n",
       "FacilityAddress    219\n",
       "Borough            219\n",
       "dtype: int64"
      ]
     },
     "execution_count": 32,
     "metadata": {},
     "output_type": "execute_result"
    }
   ],
   "source": [
    "df_fdny_csv_data.count()"
   ]
  },
  {
   "cell_type": "markdown",
   "metadata": {},
   "source": [
    "#### view datatype"
   ]
  },
  {
   "cell_type": "code",
   "execution_count": 33,
   "metadata": {},
   "outputs": [
    {
     "data": {
      "text/plain": [
       "FacilityName       object\n",
       "FacilityAddress    object\n",
       "Borough            object\n",
       "dtype: object"
      ]
     },
     "execution_count": 33,
     "metadata": {},
     "output_type": "execute_result"
    }
   ],
   "source": [
    "df_fdny_csv_data.dtypes"
   ]
  },
  {
   "cell_type": "markdown",
   "metadata": {},
   "source": [
    "#### select FDNY information boroughwise"
   ]
  },
  {
   "cell_type": "code",
   "execution_count": 35,
   "metadata": {},
   "outputs": [],
   "source": [
    "groupy_borought = df_fdny_csv_data.groupby('Borough')"
   ]
  },
  {
   "cell_type": "markdown",
   "metadata": {},
   "source": [
    "#### view FDNY information for each borought"
   ]
  },
  {
   "cell_type": "code",
   "execution_count": 36,
   "metadata": {},
   "outputs": [
    {
     "data": {
      "text/plain": [
       "Borough\n",
       "Bronx            34\n",
       "Brooklyn         66\n",
       "Manhattan        48\n",
       "Queens           51\n",
       "Staten Island    20\n",
       "dtype: int64"
      ]
     },
     "execution_count": 36,
     "metadata": {},
     "output_type": "execute_result"
    }
   ],
   "source": [
    "groupy_borought.size()"
   ]
  },
  {
   "cell_type": "markdown",
   "metadata": {},
   "source": [
    "#### select FDNY information for Manhattan"
   ]
  },
  {
   "cell_type": "code",
   "execution_count": 37,
   "metadata": {},
   "outputs": [],
   "source": [
    "fdny_info_Manhattan = groupy_borought.get_group('Manhattan')"
   ]
  },
  {
   "cell_type": "markdown",
   "metadata": {},
   "source": [
    "#### view FDNY information for Manhattan"
   ]
  },
  {
   "cell_type": "code",
   "execution_count": 38,
   "metadata": {},
   "outputs": [
    {
     "data": {
      "text/html": [
       "<div>\n",
       "<style scoped>\n",
       "    .dataframe tbody tr th:only-of-type {\n",
       "        vertical-align: middle;\n",
       "    }\n",
       "\n",
       "    .dataframe tbody tr th {\n",
       "        vertical-align: top;\n",
       "    }\n",
       "\n",
       "    .dataframe thead th {\n",
       "        text-align: right;\n",
       "    }\n",
       "</style>\n",
       "<table border=\"1\" class=\"dataframe\">\n",
       "  <thead>\n",
       "    <tr style=\"text-align: right;\">\n",
       "      <th></th>\n",
       "      <th>FacilityName</th>\n",
       "      <th>FacilityAddress</th>\n",
       "      <th>Borough</th>\n",
       "    </tr>\n",
       "  </thead>\n",
       "  <tbody>\n",
       "    <tr>\n",
       "      <th>0</th>\n",
       "      <td>Engine 4/Ladder 15</td>\n",
       "      <td>42 South Street</td>\n",
       "      <td>Manhattan</td>\n",
       "    </tr>\n",
       "    <tr>\n",
       "      <th>1</th>\n",
       "      <td>Engine 6</td>\n",
       "      <td>49 Beekman Street</td>\n",
       "      <td>Manhattan</td>\n",
       "    </tr>\n",
       "    <tr>\n",
       "      <th>2</th>\n",
       "      <td>Manhattan Borough Command/Battalion 1/Engine 7...</td>\n",
       "      <td>100 Duane Street</td>\n",
       "      <td>Manhattan</td>\n",
       "    </tr>\n",
       "    <tr>\n",
       "      <th>3</th>\n",
       "      <td>Ladder 8</td>\n",
       "      <td>14 N. Moore Street</td>\n",
       "      <td>Manhattan</td>\n",
       "    </tr>\n",
       "    <tr>\n",
       "      <th>4</th>\n",
       "      <td>Engine 9/Ladder 6</td>\n",
       "      <td>75 Canal Street</td>\n",
       "      <td>Manhattan</td>\n",
       "    </tr>\n",
       "    <tr>\n",
       "      <th>5</th>\n",
       "      <td>Battalion 4/Engine 15/Ladder 18</td>\n",
       "      <td>25 Pitt Street</td>\n",
       "      <td>Manhattan</td>\n",
       "    </tr>\n",
       "    <tr>\n",
       "      <th>6</th>\n",
       "      <td>Engine 28/Ladder 11</td>\n",
       "      <td>222 East 2 Street</td>\n",
       "      <td>Manhattan</td>\n",
       "    </tr>\n",
       "    <tr>\n",
       "      <th>7</th>\n",
       "      <td>Engine 5</td>\n",
       "      <td>340 East 14 Street</td>\n",
       "      <td>Manhattan</td>\n",
       "    </tr>\n",
       "    <tr>\n",
       "      <th>8</th>\n",
       "      <td>Division 1/Ladder 20</td>\n",
       "      <td>253 Lafayette Street</td>\n",
       "      <td>Manhattan</td>\n",
       "    </tr>\n",
       "    <tr>\n",
       "      <th>9</th>\n",
       "      <td>Engine 33/Ladder 9</td>\n",
       "      <td>42 Great Jones Street</td>\n",
       "      <td>Manhattan</td>\n",
       "    </tr>\n",
       "    <tr>\n",
       "      <th>10</th>\n",
       "      <td>Battalion 6/Ladder 3</td>\n",
       "      <td>108 East 13 Street</td>\n",
       "      <td>Manhattan</td>\n",
       "    </tr>\n",
       "    <tr>\n",
       "      <th>11</th>\n",
       "      <td>Squad 18</td>\n",
       "      <td>132 West 10 Street</td>\n",
       "      <td>Manhattan</td>\n",
       "    </tr>\n",
       "    <tr>\n",
       "      <th>12</th>\n",
       "      <td>Engine 34/Ladder 21</td>\n",
       "      <td>440 West 38th Street</td>\n",
       "      <td>Manhattan</td>\n",
       "    </tr>\n",
       "    <tr>\n",
       "      <th>13</th>\n",
       "      <td>Engine 26</td>\n",
       "      <td>220 West 37 Street</td>\n",
       "      <td>Manhattan</td>\n",
       "    </tr>\n",
       "    <tr>\n",
       "      <th>14</th>\n",
       "      <td>Battalion 7/Engine 3/Ladder 12</td>\n",
       "      <td>150 West 19 Street</td>\n",
       "      <td>Manhattan</td>\n",
       "    </tr>\n",
       "    <tr>\n",
       "      <th>15</th>\n",
       "      <td>Engine 1/Ladder 24</td>\n",
       "      <td>142 West 31 Street</td>\n",
       "      <td>Manhattan</td>\n",
       "    </tr>\n",
       "    <tr>\n",
       "      <th>16</th>\n",
       "      <td>Engine 14</td>\n",
       "      <td>14 East 18 Street</td>\n",
       "      <td>Manhattan</td>\n",
       "    </tr>\n",
       "    <tr>\n",
       "      <th>17</th>\n",
       "      <td>Engine 16/Ladder 7</td>\n",
       "      <td>234 East 29 Street</td>\n",
       "      <td>Manhattan</td>\n",
       "    </tr>\n",
       "    <tr>\n",
       "      <th>18</th>\n",
       "      <td>Engine 21</td>\n",
       "      <td>238 East 40 Street</td>\n",
       "      <td>Manhattan</td>\n",
       "    </tr>\n",
       "    <tr>\n",
       "      <th>19</th>\n",
       "      <td>Battalion 9/Engine 54/Ladder 4</td>\n",
       "      <td>782 Eighth Avenue</td>\n",
       "      <td>Manhattan</td>\n",
       "    </tr>\n",
       "    <tr>\n",
       "      <th>20</th>\n",
       "      <td>Engine 23</td>\n",
       "      <td>215 W 58th Street</td>\n",
       "      <td>Manhattan</td>\n",
       "    </tr>\n",
       "    <tr>\n",
       "      <th>21</th>\n",
       "      <td>Engine 40/Ladder 35</td>\n",
       "      <td>131 Amsterdam Avenue</td>\n",
       "      <td>Manhattan</td>\n",
       "    </tr>\n",
       "    <tr>\n",
       "      <th>22</th>\n",
       "      <td>Division 3/Ladder 25</td>\n",
       "      <td>207 West 77th Street</td>\n",
       "      <td>Manhattan</td>\n",
       "    </tr>\n",
       "    <tr>\n",
       "      <th>23</th>\n",
       "      <td>Engine 74</td>\n",
       "      <td>120 West 83 Street</td>\n",
       "      <td>Manhattan</td>\n",
       "    </tr>\n",
       "    <tr>\n",
       "      <th>24</th>\n",
       "      <td>Battalion 8/Engine 8/Ladder 2</td>\n",
       "      <td>165 East 51 Street</td>\n",
       "      <td>Manhattan</td>\n",
       "    </tr>\n",
       "    <tr>\n",
       "      <th>25</th>\n",
       "      <td>Engine 44</td>\n",
       "      <td>221 East 75 Street</td>\n",
       "      <td>Manhattan</td>\n",
       "    </tr>\n",
       "    <tr>\n",
       "      <th>26</th>\n",
       "      <td>Battalion 10/Engine 22/Ladder 13</td>\n",
       "      <td>159 East 85 Street</td>\n",
       "      <td>Manhattan</td>\n",
       "    </tr>\n",
       "    <tr>\n",
       "      <th>27</th>\n",
       "      <td>Engine 58/Ladder 26</td>\n",
       "      <td>1367 Fifth Avenue</td>\n",
       "      <td>Manhattan</td>\n",
       "    </tr>\n",
       "    <tr>\n",
       "      <th>28</th>\n",
       "      <td>Engine 53/Ladder 43</td>\n",
       "      <td>1836 Third Avenue</td>\n",
       "      <td>Manhattan</td>\n",
       "    </tr>\n",
       "    <tr>\n",
       "      <th>29</th>\n",
       "      <td>Engine 91</td>\n",
       "      <td>242 East 111 Street</td>\n",
       "      <td>Manhattan</td>\n",
       "    </tr>\n",
       "    <tr>\n",
       "      <th>30</th>\n",
       "      <td>Battalion 12/Engine 35/Ladder 14</td>\n",
       "      <td>2282 Third Avenue</td>\n",
       "      <td>Manhattan</td>\n",
       "    </tr>\n",
       "    <tr>\n",
       "      <th>31</th>\n",
       "      <td>Battalion 11/Engine 76/Ladder 22</td>\n",
       "      <td>145 West 100th St.</td>\n",
       "      <td>Manhattan</td>\n",
       "    </tr>\n",
       "    <tr>\n",
       "      <th>32</th>\n",
       "      <td>Engine 47</td>\n",
       "      <td>500 West 113 Street</td>\n",
       "      <td>Manhattan</td>\n",
       "    </tr>\n",
       "    <tr>\n",
       "      <th>33</th>\n",
       "      <td>Engine 59/Ladder 30</td>\n",
       "      <td>111 West 133 Street</td>\n",
       "      <td>Manhattan</td>\n",
       "    </tr>\n",
       "    <tr>\n",
       "      <th>34</th>\n",
       "      <td>Engine 37/Ladder 40</td>\n",
       "      <td>415 West 125 Street</td>\n",
       "      <td>Manhattan</td>\n",
       "    </tr>\n",
       "    <tr>\n",
       "      <th>35</th>\n",
       "      <td>Engine 84/Ladder 34</td>\n",
       "      <td>513 West 161 Street</td>\n",
       "      <td>Manhattan</td>\n",
       "    </tr>\n",
       "    <tr>\n",
       "      <th>36</th>\n",
       "      <td>Engine 95/Ladder 36</td>\n",
       "      <td>29 Vermilyea Avenue</td>\n",
       "      <td>Manhattan</td>\n",
       "    </tr>\n",
       "    <tr>\n",
       "      <th>37</th>\n",
       "      <td>Engine 55</td>\n",
       "      <td>363 Broome Street</td>\n",
       "      <td>Manhattan</td>\n",
       "    </tr>\n",
       "    <tr>\n",
       "      <th>38</th>\n",
       "      <td>Rescue 1</td>\n",
       "      <td>530 West 43 Street</td>\n",
       "      <td>Manhattan</td>\n",
       "    </tr>\n",
       "    <tr>\n",
       "      <th>39</th>\n",
       "      <td>Engine 39/Ladder 16</td>\n",
       "      <td>157 E 67th St</td>\n",
       "      <td>Manhattan</td>\n",
       "    </tr>\n",
       "    <tr>\n",
       "      <th>40</th>\n",
       "      <td>Battalion 16/Engine 69/Ladder 28</td>\n",
       "      <td>248 West 143 Street</td>\n",
       "      <td>Manhattan</td>\n",
       "    </tr>\n",
       "    <tr>\n",
       "      <th>41</th>\n",
       "      <td>Engine 80/Ladder 23</td>\n",
       "      <td>503 West 139 Street</td>\n",
       "      <td>Manhattan</td>\n",
       "    </tr>\n",
       "    <tr>\n",
       "      <th>42</th>\n",
       "      <td>Battalion 13/Engine 93/Ladder 45</td>\n",
       "      <td>515 West 181 Street</td>\n",
       "      <td>Manhattan</td>\n",
       "    </tr>\n",
       "    <tr>\n",
       "      <th>43</th>\n",
       "      <td>Engine 10/Ladder 10</td>\n",
       "      <td>124 Liberty Street</td>\n",
       "      <td>Manhattan</td>\n",
       "    </tr>\n",
       "    <tr>\n",
       "      <th>44</th>\n",
       "      <td>Engine 65</td>\n",
       "      <td>33 West 43 Street</td>\n",
       "      <td>Manhattan</td>\n",
       "    </tr>\n",
       "    <tr>\n",
       "      <th>45</th>\n",
       "      <td>Battalion 2/Engine 24/Ladder 5</td>\n",
       "      <td>227 Sixth Avenue</td>\n",
       "      <td>Manhattan</td>\n",
       "    </tr>\n",
       "    <tr>\n",
       "      <th>46</th>\n",
       "      <td>Engine 67</td>\n",
       "      <td>518 West 170 Street</td>\n",
       "      <td>Manhattan</td>\n",
       "    </tr>\n",
       "    <tr>\n",
       "      <th>47</th>\n",
       "      <td>Marine 1</td>\n",
       "      <td>20 Rear Bloomfield Street</td>\n",
       "      <td>Manhattan</td>\n",
       "    </tr>\n",
       "  </tbody>\n",
       "</table>\n",
       "</div>"
      ],
      "text/plain": [
       "                                         FacilityName  \\\n",
       "0                                  Engine 4/Ladder 15   \n",
       "1                                            Engine 6   \n",
       "2   Manhattan Borough Command/Battalion 1/Engine 7...   \n",
       "3                                            Ladder 8   \n",
       "4                                   Engine 9/Ladder 6   \n",
       "5                     Battalion 4/Engine 15/Ladder 18   \n",
       "6                                 Engine 28/Ladder 11   \n",
       "7                                            Engine 5   \n",
       "8                                Division 1/Ladder 20   \n",
       "9                                  Engine 33/Ladder 9   \n",
       "10                               Battalion 6/Ladder 3   \n",
       "11                                           Squad 18   \n",
       "12                                Engine 34/Ladder 21   \n",
       "13                                          Engine 26   \n",
       "14                     Battalion 7/Engine 3/Ladder 12   \n",
       "15                                 Engine 1/Ladder 24   \n",
       "16                                          Engine 14   \n",
       "17                                 Engine 16/Ladder 7   \n",
       "18                                          Engine 21   \n",
       "19                     Battalion 9/Engine 54/Ladder 4   \n",
       "20                                          Engine 23   \n",
       "21                                Engine 40/Ladder 35   \n",
       "22                               Division 3/Ladder 25   \n",
       "23                                          Engine 74   \n",
       "24                      Battalion 8/Engine 8/Ladder 2   \n",
       "25                                          Engine 44   \n",
       "26                   Battalion 10/Engine 22/Ladder 13   \n",
       "27                                Engine 58/Ladder 26   \n",
       "28                                Engine 53/Ladder 43   \n",
       "29                                          Engine 91   \n",
       "30                   Battalion 12/Engine 35/Ladder 14   \n",
       "31                   Battalion 11/Engine 76/Ladder 22   \n",
       "32                                          Engine 47   \n",
       "33                                Engine 59/Ladder 30   \n",
       "34                                Engine 37/Ladder 40   \n",
       "35                                Engine 84/Ladder 34   \n",
       "36                                Engine 95/Ladder 36   \n",
       "37                                          Engine 55   \n",
       "38                                           Rescue 1   \n",
       "39                                Engine 39/Ladder 16   \n",
       "40                   Battalion 16/Engine 69/Ladder 28   \n",
       "41                                Engine 80/Ladder 23   \n",
       "42                   Battalion 13/Engine 93/Ladder 45   \n",
       "43                                Engine 10/Ladder 10   \n",
       "44                                          Engine 65   \n",
       "45                     Battalion 2/Engine 24/Ladder 5   \n",
       "46                                          Engine 67   \n",
       "47                                           Marine 1   \n",
       "\n",
       "              FacilityAddress    Borough  \n",
       "0             42 South Street  Manhattan  \n",
       "1           49 Beekman Street  Manhattan  \n",
       "2            100 Duane Street  Manhattan  \n",
       "3          14 N. Moore Street  Manhattan  \n",
       "4             75 Canal Street  Manhattan  \n",
       "5              25 Pitt Street  Manhattan  \n",
       "6           222 East 2 Street  Manhattan  \n",
       "7          340 East 14 Street  Manhattan  \n",
       "8        253 Lafayette Street  Manhattan  \n",
       "9       42 Great Jones Street  Manhattan  \n",
       "10         108 East 13 Street  Manhattan  \n",
       "11         132 West 10 Street  Manhattan  \n",
       "12       440 West 38th Street  Manhattan  \n",
       "13         220 West 37 Street  Manhattan  \n",
       "14         150 West 19 Street  Manhattan  \n",
       "15         142 West 31 Street  Manhattan  \n",
       "16          14 East 18 Street  Manhattan  \n",
       "17         234 East 29 Street  Manhattan  \n",
       "18         238 East 40 Street  Manhattan  \n",
       "19          782 Eighth Avenue  Manhattan  \n",
       "20          215 W 58th Street  Manhattan  \n",
       "21       131 Amsterdam Avenue  Manhattan  \n",
       "22       207 West 77th Street  Manhattan  \n",
       "23         120 West 83 Street  Manhattan  \n",
       "24         165 East 51 Street  Manhattan  \n",
       "25         221 East 75 Street  Manhattan  \n",
       "26         159 East 85 Street  Manhattan  \n",
       "27          1367 Fifth Avenue  Manhattan  \n",
       "28          1836 Third Avenue  Manhattan  \n",
       "29        242 East 111 Street  Manhattan  \n",
       "30          2282 Third Avenue  Manhattan  \n",
       "31         145 West 100th St.  Manhattan  \n",
       "32        500 West 113 Street  Manhattan  \n",
       "33        111 West 133 Street  Manhattan  \n",
       "34        415 West 125 Street  Manhattan  \n",
       "35        513 West 161 Street  Manhattan  \n",
       "36        29 Vermilyea Avenue  Manhattan  \n",
       "37          363 Broome Street  Manhattan  \n",
       "38         530 West 43 Street  Manhattan  \n",
       "39              157 E 67th St  Manhattan  \n",
       "40        248 West 143 Street  Manhattan  \n",
       "41        503 West 139 Street  Manhattan  \n",
       "42        515 West 181 Street  Manhattan  \n",
       "43         124 Liberty Street  Manhattan  \n",
       "44          33 West 43 Street  Manhattan  \n",
       "45           227 Sixth Avenue  Manhattan  \n",
       "46        518 West 170 Street  Manhattan  \n",
       "47  20 Rear Bloomfield Street  Manhattan  "
      ]
     },
     "execution_count": 38,
     "metadata": {},
     "output_type": "execute_result"
    }
   ],
   "source": [
    "fdny_info_Manhattan"
   ]
  },
  {
   "cell_type": "code",
   "execution_count": null,
   "metadata": {},
   "outputs": [],
   "source": []
  }
 ],
 "metadata": {
  "kernelspec": {
   "display_name": "Python 3.10.5 64-bit",
   "language": "python",
   "name": "python3"
  },
  "language_info": {
   "codemirror_mode": {
    "name": "ipython",
    "version": 3
   },
   "file_extension": ".py",
   "mimetype": "text/x-python",
   "name": "python",
   "nbconvert_exporter": "python",
   "pygments_lexer": "ipython3",
   "version": "3.10.5"
  },
  "orig_nbformat": 4,
  "vscode": {
   "interpreter": {
    "hash": "e18d32e78a9d1f6b5d41bcc9620a33cb0eb8a83172e9526f1e29732f1c151e0b"
   }
  }
 },
 "nbformat": 4,
 "nbformat_minor": 2
}
